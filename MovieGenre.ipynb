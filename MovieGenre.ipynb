{
 "cells": [
  {
   "cell_type": "code",
   "execution_count": 1,
   "id": "a511640f-b64e-4548-9f5c-318006f3eb75",
   "metadata": {},
   "outputs": [],
   "source": [
    "import numpy as np\n",
    "import pandas as pd\n",
    "import seaborn as sns\n",
    "import matplotlib.pyplot as plt\n",
    "%matplotlib inline\n",
    "\n",
    "import ssl\n",
    "\n",
    "import nltk\n",
    "from bs4 import BeautifulSoup\n",
    "import re\n",
    "from nltk.corpus import stopwords\n",
    "\n",
    "from sklearn import svm\n",
    "from sklearn.model_selection import train_test_split\n",
    "from sklearn.feature_extraction.text import CountVectorizer\n",
    "from sklearn.metrics import accuracy_score, confusion_matrix, recall_score, precision_score, f1_score"
   ]
  },
  {
   "cell_type": "code",
   "execution_count": 2,
   "id": "d5ce16b2-8ced-4484-8b45-918cbcbb078b",
   "metadata": {},
   "outputs": [
    {
     "name": "stdout",
     "output_type": "stream",
     "text": [
      "<class 'pandas.core.frame.DataFrame'>\n",
      "RangeIndex: 85855 entries, 0 to 85854\n",
      "Data columns (total 22 columns):\n",
      " #   Column                 Non-Null Count  Dtype  \n",
      "---  ------                 --------------  -----  \n",
      " 0   imdb_title_id          85855 non-null  object \n",
      " 1   title                  85855 non-null  object \n",
      " 2   original_title         85855 non-null  object \n",
      " 3   year                   85855 non-null  object \n",
      " 4   date_published         85855 non-null  object \n",
      " 5   genre                  85855 non-null  object \n",
      " 6   duration               85855 non-null  int64  \n",
      " 7   country                85791 non-null  object \n",
      " 8   language               85022 non-null  object \n",
      " 9   director               85768 non-null  object \n",
      " 10  writer                 84283 non-null  object \n",
      " 11  production_company     81400 non-null  object \n",
      " 12  actors                 85786 non-null  object \n",
      " 13  description            83740 non-null  object \n",
      " 14  avg_vote               85855 non-null  float64\n",
      " 15  votes                  85855 non-null  int64  \n",
      " 16  budget                 23710 non-null  object \n",
      " 17  usa_gross_income       15326 non-null  object \n",
      " 18  worlwide_gross_income  31016 non-null  object \n",
      " 19  metascore              13305 non-null  float64\n",
      " 20  reviews_from_users     78258 non-null  float64\n",
      " 21  reviews_from_critics   74058 non-null  float64\n",
      "dtypes: float64(4), int64(2), object(16)\n",
      "memory usage: 14.4+ MB\n",
      "None\n"
     ]
    },
    {
     "name": "stderr",
     "output_type": "stream",
     "text": [
      "/Users/arinjay/Desktop/CS 5100/Project/venv/lib/python3.6/site-packages/IPython/core/interactiveshell.py:3072: DtypeWarning: Columns (3) have mixed types.Specify dtype option on import or set low_memory=False.\n",
      "  interactivity=interactivity, compiler=compiler, result=result)\n"
     ]
    }
   ],
   "source": [
    "df = pd.read_csv(\"archive/IMDb movies.csv\")\n",
    "print(df.info())"
   ]
  },
  {
   "cell_type": "code",
   "execution_count": 3,
   "id": "8216be1a-bb3f-4688-9645-b5cb10e478d2",
   "metadata": {},
   "outputs": [
    {
     "name": "stdout",
     "output_type": "stream",
     "text": [
      "      imdb_title_id                           title  \\\n",
      "85850     tt9908390                         Le lion   \n",
      "85851     tt9911196  De Beentjes van Sint-Hildegard   \n",
      "85852     tt9911774       Padmavyuhathile Abhimanyu   \n",
      "85853     tt9914286               Sokagin Çocuklari   \n",
      "85854     tt9914942      La vida sense la Sara Amat   \n",
      "\n",
      "                       original_title  year date_published          genre  \\\n",
      "85850                         Le lion  2020     2020-01-29         Comedy   \n",
      "85851  De Beentjes van Sint-Hildegard  2020     2020-02-13  Comedy, Drama   \n",
      "85852       Padmavyuhathile Abhimanyu  2019     2019-03-08          Drama   \n",
      "85853               Sokagin Çocuklari  2019     2019-03-15  Drama, Family   \n",
      "85854      La vida sense la Sara Amat  2019     2020-02-05          Drama   \n",
      "\n",
      "       duration          country       language                director  ...  \\\n",
      "85850        95  France, Belgium         French  Ludovic Colbeau-Justin  ...   \n",
      "85851       103      Netherlands  German, Dutch         Johan Nijenhuis  ...   \n",
      "85852       130            India      Malayalam         Vineesh Aaradya  ...   \n",
      "85853        98           Turkey        Turkish       Ahmet Faik Akinci  ...   \n",
      "85854        74            Spain        Catalan               Laura Jou  ...   \n",
      "\n",
      "                                                  actors  \\\n",
      "85850  Dany Boon, Philippe Katerine, Anne Serra, Samu...   \n",
      "85851  Herman Finkers, Johanna ter Steege, Leonie ter...   \n",
      "85852  Anoop Chandran, Indrans, Sona Nair, Simon Brit...   \n",
      "85853  Ahmet Faik Akinci, Belma Mamati, Metin Keçeci,...   \n",
      "85854  Maria Morera Colomer, Biel Rossell Pelfort, Is...   \n",
      "\n",
      "                                             description avg_vote votes  \\\n",
      "85850  A psychiatric hospital patient pretends to be ...      5.3   398   \n",
      "85851  A middle-aged veterinary surgeon believes his ...      7.7   724   \n",
      "85852                                                NaN      7.9   265   \n",
      "85853                                                NaN      6.4   194   \n",
      "85854  Pep, a 13-year-old boy, is in love with a girl...      6.7   102   \n",
      "\n",
      "       budget  usa_gross_income worlwide_gross_income metascore  \\\n",
      "85850     NaN               NaN             $ 3507171       NaN   \n",
      "85851     NaN               NaN             $ 7299062       NaN   \n",
      "85852     NaN               NaN                   NaN       NaN   \n",
      "85853     NaN               NaN                $ 2833       NaN   \n",
      "85854     NaN               NaN               $ 59794       NaN   \n",
      "\n",
      "      reviews_from_users  reviews_from_critics  \n",
      "85850                NaN                   4.0  \n",
      "85851                6.0                   4.0  \n",
      "85852                NaN                   NaN  \n",
      "85853                NaN                   NaN  \n",
      "85854                NaN                   2.0  \n",
      "\n",
      "[5 rows x 22 columns]\n"
     ]
    }
   ],
   "source": [
    "df['genre'] = df['genre'].replace('unknown', np.nan)\n",
    "df = df.dropna(axis=0, subset=['genre'])\n",
    "print(df.tail())"
   ]
  },
  {
   "cell_type": "code",
   "execution_count": 4,
   "id": "3945c397-5406-4419-87c6-27ce0e0e9dc2",
   "metadata": {},
   "outputs": [
    {
     "name": "stdout",
     "output_type": "stream",
     "text": [
      "85855\n",
      "(85855, 22)\n",
      "['Drama', 'Comedy', 'Comedy, Drama', 'Drama, Romance', 'Comedy, Romance', 'Comedy, Drama, Romance', 'Horror', 'Drama, Thriller', 'Crime, Drama', 'Action, Crime, Drama', 'Thriller', 'Horror, Thriller', 'Crime, Drama, Thriller', 'Action, Drama', 'Drama, War', 'Action', 'Crime, Drama, Mystery', 'Action, Adventure, Drama', 'Action, Adventure, Comedy', 'Comedy, Crime']\n"
     ]
    }
   ],
   "source": [
    "print(len(df))\n",
    "print(df.shape)\n",
    "a = df['genre'].value_counts()[:20]\n",
    "b = a.keys().tolist()\n",
    "print(b)\n",
    "df = df[df.genre.isin(b)]\n",
    "df = df.reset_index(drop=True)"
   ]
  },
  {
   "cell_type": "code",
   "execution_count": 5,
   "id": "569f49d3-60b5-4921-9107-3946c3d7c502",
   "metadata": {},
   "outputs": [
    {
     "data": {
      "text/plain": [
       "<AxesSubplot:xlabel='Count', ylabel='genre'>"
      ]
     },
     "execution_count": 5,
     "metadata": {},
     "output_type": "execute_result"
    },
    {
     "data": {
      "image/png": "[encoded data removed]",
      "text/plain": [
       "<Figure size 1080x720 with 1 Axes>"
      ]
     },
     "metadata": {},
     "output_type": "display_data"
    }
   ],
   "source": [
    "sns.set(style=\"white\")\n",
    "genre_to_count=pd.DataFrame({'genre':a.index, 'Count':a.values})\n",
    "plt.figure(figsize=(15,10))\n",
    "sns.barplot(y=\"genre\", x=\"Count\", data=genre_to_count,palette=\"Blues_d\")"
   ]
  },
  {
   "cell_type": "code",
   "execution_count": 6,
   "id": "bf7140ed-a788-4e56-a772-3a8edba0d66e",
   "metadata": {},
   "outputs": [
    {
     "name": "stderr",
     "output_type": "stream",
     "text": [
      "[nltk_data] Downloading package stopwords to\n",
      "[nltk_data]     /Users/arinjay/nltk_data...\n",
      "[nltk_data]   Package stopwords is already up-to-date!\n"
     ]
    },
    {
     "data": {
      "text/plain": [
       "True"
      ]
     },
     "execution_count": 6,
     "metadata": {},
     "output_type": "execute_result"
    }
   ],
   "source": [
    "try:\n",
    "    _create_unverified_https_context = ssl._create_unverified_context\n",
    "except AttributeError:\n",
    "    pass\n",
    "else:\n",
    "    ssl._create_default_https_context = _create_unverified_https_context\n",
    "\n",
    "nltk.download('stopwords')"
   ]
  },
  {
   "cell_type": "code",
   "execution_count": 7,
   "id": "df6133d2-dcb0-4f75-996e-e1ee02d8ba4d",
   "metadata": {},
   "outputs": [],
   "source": [
    "def plotToWords(raw_plot):\n",
    "    letters_only = re.sub(\"[^a-zA-Z]\", \" \", str(raw_plot))\n",
    "    lower_case = letters_only.lower()\n",
    "    words = lower_case.split()\n",
    "    stops = set(stopwords.words(\"english\"))\n",
    "    meaningful_words = [w for w in words if not w in stops]\n",
    "    return (\" \".join(meaningful_words))"
   ]
  },
  {
   "cell_type": "code",
   "execution_count": 8,
   "id": "4bd4b71a-f13d-45f6-9591-3ab53eeb103b",
   "metadata": {},
   "outputs": [],
   "source": [
    "def preprocess(dataframe):\n",
    "    cleaned_description = []\n",
    "    for i in range(0,len(dataframe)):\n",
    "        cleaned_description.append(plotToWords(dataframe.iloc[i]['description']))\n",
    "    dataframe['description']=cleaned_description\n",
    "    return dataframe"
   ]
  },
  {
   "cell_type": "code",
   "execution_count": 9,
   "id": "cbe65af9-23d9-4fc2-80ec-e230c9dba8e1",
   "metadata": {},
   "outputs": [
    {
     "name": "stdout",
     "output_type": "stream",
     "text": [
      "0    two men high rank wooing beautiful famous eque...\n",
      "1    richard gloucester uses manipulation murder ga...\n",
      "2    dr friedrich wife becomes mentally unstable re...\n",
      "3    inspector juve tasked investigate capture infa...\n",
      "4    single mother separated children due financial...\n",
      "5    part two louis feuillade hour epic follows fan...\n",
      "6    leslie swayne adventurer order obtain enough m...\n",
      "7    army pilot visit home another army pilot neigh...\n",
      "8    body disappears inside prison series crimes ta...\n",
      "9    john howard payne miserable point life writes ...\n",
      "Name: description, dtype: object\n"
     ]
    }
   ],
   "source": [
    "df=preprocess(df)\n",
    "print(df[\"description\"][:10])"
   ]
  },
  {
   "cell_type": "code",
   "execution_count": 10,
   "id": "d278e296-b162-4854-91fb-64efa21c650b",
   "metadata": {},
   "outputs": [
    {
     "name": "stdout",
     "output_type": "stream",
     "text": [
      "[[0. 0. 0. ... 0. 0. 0.]\n",
      " [0. 0. 0. ... 0. 0. 0.]\n",
      " [0. 0. 0. ... 0. 0. 0.]\n",
      " ...\n",
      " [0. 0. 0. ... 0. 0. 0.]\n",
      " [0. 0. 0. ... 0. 0. 0.]\n",
      " [0. 0. 0. ... 0. 0. 0.]]\n"
     ]
    }
   ],
   "source": [
    "from sklearn.feature_extraction.text import TfidfVectorizer\n",
    "tfidf = TfidfVectorizer(sublinear_tf=True, min_df=5, norm='l2', encoding='latin-1', ngram_range=(1, 2), max_features=4000)\n",
    "features = tfidf.fit_transform(df.description).toarray()\n",
    "labels = df.genre\n",
    "features.shape\n",
    "print(features)"
   ]
  },
  {
   "cell_type": "code",
   "execution_count": 11,
   "id": "529fa126-4516-438a-a64d-0896f0e2fa71",
   "metadata": {},
   "outputs": [],
   "source": [
    "from sklearn.model_selection import train_test_split\n",
    "from sklearn.feature_extraction.text import CountVectorizer\n",
    "from sklearn.feature_extraction.text import TfidfTransformer\n",
    "from sklearn.naive_bayes import MultinomialNB\n",
    "\n",
    "X_train, X_test, y_train, y_test = train_test_split(df['description'], df['genre'], random_state = 0)\n",
    "count_vect = CountVectorizer()\n",
    "X_train_counts = count_vect.fit_transform(X_train)\n",
    "tfidf_transformer = TfidfTransformer()\n",
    "X_train_tfidf = tfidf_transformer.fit_transform(X_train_counts)\n",
    "clf = MultinomialNB().fit(X_train_tfidf, y_train)"
   ]
  },
  {
   "cell_type": "code",
   "execution_count": 12,
   "id": "75096824-add4-46eb-aa33-fd1fc95fc781",
   "metadata": {},
   "outputs": [
    {
     "name": "stdout",
     "output_type": "stream",
     "text": [
      "['Drama']\n"
     ]
    }
   ],
   "source": [
    "print(clf.predict(count_vect.transform([\"In an interview with CBC Radio, UniversitÃ© de MontrÃ©al History Professor Dominique St. Arnaud tells Diane about her new book, Variations on the Idea of Happiness, which discusses her thesis that modern society's fixation on self-indulgence is indicative of its decline, predicting a collapse in the \"\"American Empire,\"\" of which Quebec is on the periphery. Several of Dominique and Diane's friends, mostly intellectual history professors at the university, prepare for a dinner later in the day, with the men at work in the kitchen while the women work out at the gym. As the dinner draws nearer, the men and women mainly talk about their sex lives, with the men being open about their adulteries, including RÃ©my, who is married to Louise. Most of the women in the circle of friends have had sex with RÃ©my, though he is not attractive, but they conceal this from Louise to spare her feelings. Louise has been to an orgy with RÃ©my, but believes he is generally faithful to her in Montreal. The friends are also accepting of their homosexual friend Claude, who speaks about pursuing men reckless of fear of STDs, while secretly being fearful of having one. During the dinner party, the friends listen to Dominique's theories about the decline of society, with Louise expressing skepticism. To retaliate against Louise, Dominique reveals she has had sex with RÃ©my and their friend Pierre, causing her to have an emotional meltdown. By morning, relationships have gone back to normal.\"])))"
   ]
  },
  {
   "cell_type": "code",
   "execution_count": 14,
   "id": "50000c9a-aa16-47e7-844e-60698b13967a",
   "metadata": {},
   "outputs": [],
   "source": [
    "from sklearn.linear_model import LogisticRegression\n",
    "from sklearn.ensemble import RandomForestClassifier\n",
    "from sklearn.svm import LinearSVC\n",
    "from sklearn.model_selection import cross_val_score\n",
    "models = [\n",
    "    LinearSVC(),\n",
    "    MultinomialNB(),\n",
    "    LogisticRegression(random_state=0, max_iter = 1000),\n",
    "]\n",
    "CV = 5\n",
    "cv_df = pd.DataFrame(index=range(CV * len(models)))\n",
    "entries = []\n",
    "for model in models:\n",
    "    model_name = model.__class__.__name__\n",
    "    accuracies = cross_val_score(model, features, labels, scoring='accuracy', cv=CV)\n",
    "    for fold_idx, accuracy in enumerate(accuracies):\n",
    "        entries.append((model_name, fold_idx, accuracy))\n",
    "cv_df_accuracy = pd.DataFrame(entries, columns=['model_name', 'fold_idx', 'accuracy'])"
   ]
  },
  {
   "cell_type": "code",
   "execution_count": 19,
   "id": "21174244-0425-42e0-8c73-3599c4cf85ac",
   "metadata": {},
   "outputs": [
    {
     "data": {
      "text/plain": [
       "model_name\n",
       "LinearSVC             0.334451\n",
       "LogisticRegression    0.360900\n",
       "MultinomialNB         0.344895\n",
       "Name: accuracy, dtype: float64"
      ]
     },
     "execution_count": 19,
     "metadata": {},
     "output_type": "execute_result"
    }
   ],
   "source": [
    "cv_df_accuracy.groupby('model_name').accuracy.mean()"
   ]
  },
  {
   "cell_type": "code",
   "execution_count": 20,
   "id": "fe13a390-598f-46fc-8930-7f74590a1abb",
   "metadata": {},
   "outputs": [
    {
     "data": {
      "text/plain": [
       "model_name\n",
       "LinearSVC             0.014253\n",
       "LogisticRegression    0.009441\n",
       "MultinomialNB         0.004571\n",
       "Name: accuracy, dtype: float64"
      ]
     },
     "execution_count": 20,
     "metadata": {},
     "output_type": "execute_result"
    }
   ],
   "source": [
    "cv_df_accuracy.groupby('model_name').accuracy.std()"
   ]
  },
  {
   "cell_type": "code",
   "execution_count": 23,
   "id": "0268c53a-46e9-42a5-829c-a5df530a5d34",
   "metadata": {},
   "outputs": [],
   "source": [
    "from sklearn.linear_model import LogisticRegression\n",
    "from sklearn.ensemble import RandomForestClassifier\n",
    "from sklearn.svm import LinearSVC\n",
    "from sklearn.model_selection import cross_val_score\n",
    "models = [\n",
    "    LinearSVC(),\n",
    "    MultinomialNB(),\n",
    "    LogisticRegression(random_state=0, max_iter = 1000),\n",
    "]\n",
    "CV = 5\n",
    "cv_df = pd.DataFrame(index=range(CV * len(models)))\n",
    "entries = []\n",
    "for model in models:\n",
    "    model_name = model.__class__.__name__\n",
    "    f1_micros = cross_val_score(model, features, labels, scoring='f1_micro', cv=CV)\n",
    "    for fold_idx, f1_micro in enumerate(f1_micros):\n",
    "        entries.append((model_name, fold_idx, f1_micro))\n",
    "cv_df_f2 = pd.DataFrame(entries, columns=['model_name', 'fold_idx', 'f1_micro'])"
   ]
  },
  {
   "cell_type": "code",
   "execution_count": 24,
   "id": "a747c34f-7d7e-4bb8-b06c-0953090e17e4",
   "metadata": {},
   "outputs": [
    {
     "data": {
      "text/plain": [
       "model_name\n",
       "LinearSVC             0.334430\n",
       "LogisticRegression    0.360900\n",
       "MultinomialNB         0.344895\n",
       "Name: f1_micro, dtype: float64"
      ]
     },
     "execution_count": 24,
     "metadata": {},
     "output_type": "execute_result"
    }
   ],
   "source": [
    "cv_df_f2.groupby('model_name').f1_micro.mean()"
   ]
  },
  {
   "cell_type": "code",
   "execution_count": 25,
   "id": "aa0e8adb-e13f-4c8c-b2c6-42e07dcfc759",
   "metadata": {},
   "outputs": [
    {
     "data": {
      "text/plain": [
       "model_name\n",
       "LinearSVC             0.014235\n",
       "LogisticRegression    0.009441\n",
       "MultinomialNB         0.004571\n",
       "Name: f1_micro, dtype: float64"
      ]
     },
     "execution_count": 25,
     "metadata": {},
     "output_type": "execute_result"
    }
   ],
   "source": [
    "cv_df_f2.groupby('model_name').f1_micro.std()"
   ]
  },
  {
   "cell_type": "code",
   "execution_count": 22,
   "id": "26ec9485-6405-4089-b8a6-e3e6e2a87b21",
   "metadata": {},
   "outputs": [],
   "source": [
    "from sklearn.linear_model import LogisticRegression\n",
    "from sklearn.ensemble import RandomForestClassifier\n",
    "from sklearn.svm import LinearSVC\n",
    "from sklearn.model_selection import cross_val_score\n",
    "models = [\n",
    "    LinearSVC(),\n",
    "    MultinomialNB(),\n",
    "    LogisticRegression(random_state=0, max_iter = 1000),\n",
    "]\n",
    "CV = 5\n",
    "cv_df = pd.DataFrame(index=range(CV * len(models)))\n",
    "entries = []\n",
    "for model in models:\n",
    "    model_name = model.__class__.__name__\n",
    "    recall_micros = cross_val_score(model, features, labels, scoring='recall_micro', cv=CV)\n",
    "    for fold_idx, recall_micro in enumerate(recall_micros):\n",
    "        entries.append((model_name, fold_idx, recall_micro))\n",
    "cv_df_recall = pd.DataFrame(entries, columns=['model_name', 'fold_idx', 'recall_micro'])"
   ]
  },
  {
   "cell_type": "code",
   "execution_count": 26,
   "id": "3b37c059-5dfd-48bd-b4e9-fd7f6a1f2849",
   "metadata": {},
   "outputs": [
    {
     "data": {
      "text/plain": [
       "model_name\n",
       "LinearSVC             0.334451\n",
       "LogisticRegression    0.360900\n",
       "MultinomialNB         0.344895\n",
       "Name: recall_micro, dtype: float64"
      ]
     },
     "execution_count": 26,
     "metadata": {},
     "output_type": "execute_result"
    }
   ],
   "source": [
    "cv_df_recall.groupby('model_name').recall_micro.mean()"
   ]
  },
  {
   "cell_type": "code",
   "execution_count": 30,
   "id": "d459e2d3-7e99-4952-b7c2-a2f3dc90c238",
   "metadata": {},
   "outputs": [
    {
     "data": {
      "text/plain": [
       "model_name\n",
       "LinearSVC             0.014253\n",
       "LogisticRegression    0.009441\n",
       "MultinomialNB         0.004571\n",
       "Name: recall_micro, dtype: float64"
      ]
     },
     "execution_count": 30,
     "metadata": {},
     "output_type": "execute_result"
    }
   ],
   "source": [
    "cv_df_recall.groupby('model_name').recall_micro.std()"
   ]
  },
  {
   "cell_type": "code",
   "execution_count": 27,
   "id": "923b93ae-1aeb-4c83-8589-f5a03e813f47",
   "metadata": {},
   "outputs": [],
   "source": [
    "from sklearn.linear_model import LogisticRegression\n",
    "from sklearn.ensemble import RandomForestClassifier\n",
    "from sklearn.svm import LinearSVC\n",
    "from sklearn.model_selection import cross_val_score\n",
    "models = [\n",
    "    LinearSVC(),\n",
    "    MultinomialNB(),\n",
    "    LogisticRegression(random_state=0, max_iter = 1000),\n",
    "]\n",
    "CV = 5\n",
    "cv_df = pd.DataFrame(index=range(CV * len(models)))\n",
    "entries = []\n",
    "for model in models:\n",
    "    model_name = model.__class__.__name__\n",
    "    precision = cross_val_score(model, features, labels, scoring='precision_micro', cv=CV)\n",
    "    for fold_idx, recall_micro in enumerate(precision):\n",
    "        entries.append((model_name, fold_idx, precision))\n",
    "cv_df_precision = pd.DataFrame(entries, columns=['model_name', 'fold_idx', 'precision'])"
   ]
  },
  {
   "cell_type": "code",
   "execution_count": 28,
   "id": "1230b2dc-b41a-4007-8a22-c562dc0f4a48",
   "metadata": {},
   "outputs": [
    {
     "name": "stdout",
     "output_type": "stream",
     "text": [
      "[0.3315998  0.34801528 0.35211915 0.35049176 0.35148235]\n",
      "0     [0.31108045001061346, 0.3305030779027807, 0.34...\n",
      "1     [0.31108045001061346, 0.3305030779027807, 0.34...\n",
      "2     [0.31108045001061346, 0.3305030779027807, 0.34...\n",
      "3     [0.31108045001061346, 0.3305030779027807, 0.34...\n",
      "4     [0.31108045001061346, 0.3305030779027807, 0.34...\n",
      "5     [0.33899384419443856, 0.3515177244746338, 0.34...\n",
      "6     [0.33899384419443856, 0.3515177244746338, 0.34...\n",
      "7     [0.33899384419443856, 0.3515177244746338, 0.34...\n",
      "8     [0.33899384419443856, 0.3515177244746338, 0.34...\n",
      "9     [0.33899384419443856, 0.3515177244746338, 0.34...\n",
      "10    [0.3447251114413076, 0.3620250477605604, 0.368...\n",
      "11    [0.3447251114413076, 0.3620250477605604, 0.368...\n",
      "12    [0.3447251114413076, 0.3620250477605604, 0.368...\n",
      "13    [0.3447251114413076, 0.3620250477605604, 0.368...\n",
      "14    [0.3447251114413076, 0.3620250477605604, 0.368...\n",
      "Name: precision, dtype: object\n",
      "<pandas.core.groupby.generic.DataFrameGroupBy object at 0x7f80e2455fd0>\n"
     ]
    }
   ],
   "source": [
    "print(cv_df_precision.precision.mean())\n",
    "print(cv_df_precision.precision)\n",
    "print(cv_df_precision.groupby('model_name'))"
   ]
  }
 ],
 "metadata": {
  "kernelspec": {
   "display_name": "Python 3",
   "language": "python",
   "name": "python3"
  },
  "language_info": {
   "codemirror_mode": {
    "name": "ipython",
    "version": 3
   },
   "file_extension": ".py",
   "mimetype": "text/x-python",
   "name": "python",
   "nbconvert_exporter": "python",
   "pygments_lexer": "ipython3",
   "version": "3.6.5"
  }
 },
 "nbformat": 4,
 "nbformat_minor": 5
}
